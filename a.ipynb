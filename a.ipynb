{
 "cells": [
  {
   "cell_type": "markdown",
   "id": "ec5099ea",
   "metadata": {},
   "source": [
    "# 1. Packages Requirement"
   ]
  },
  {
   "cell_type": "markdown",
   "id": "7bba8703",
   "metadata": {},
   "source": [
    "- `--no-deps`: Không cài đặt tự động các phụ thuộc của các gói này, tránh xung đột phiên bản trong Colab (vì Colab đã có một số thư viện cài sẵn).\n",
    "\n",
    "- `bitsandbytes`: Thư viện hỗ trợ lượng tử hóa (quantization) như 4-bit, 8-bit, giúp giảm dung lượng bộ nhớ khi chạy mô hình lớn.\n",
    "\n",
    "- `accelerate`: Thư viện của Hugging Face để tăng tốc huấn luyện và inference trên nhiều thiết bị (CPU, GPU, TPU).\n",
    "\n",
    "- `xformers==0.0.29`: Thư viện tối ưu hóa attention trong Transformer, cải thiện tốc độ và giảm bộ nhớ. Chỉ định phiên bản 0.0.29 để đảm bảo tương thích.\n",
    "\n",
    "- `peft`: Thư viện Parameter-Efficient Fine-Tuning của Hugging Face, hỗ trợ các kỹ thuật như LoRA/QLoRA mà Unsloth sử dụng.\n",
    "\n",
    "- `trl`: Thư viện Transformers Reinforcement Learning, hỗ trợ huấn luyện mô hình với các phương pháp như RLHF (Reinforcement Learning from Human Feedback).\n",
    "\n",
    "- `triton`: Thư viện từ OpenAI để tối ưu hóa kernel GPU, tăng tốc tính toán trong PyTorch.\n",
    "\n",
    "- `cut_cross_entropy`: Một gói tối ưu hóa hàm mất mát cross-entropy, thường được dùng để tăng tốc huấn luyện mô hình ngôn ngữ.\n",
    "\n",
    "- `unsloth_zoo`: Một gói phụ của Unsloth, cung cấp các mô hình đã được tối ưu hóa hoặc các công cụ bổ sung để làm việc với Unsloth.\n",
    "\n",
    "- `sentencepiece`: Thư viện mã hóa văn bản (tokenization), thường dùng cho các mô hình như Llama hoặc DeepSeek.\n",
    "\n",
    "- `protobuf`: Thư viện Google Protocol Buffers, cần thiết để làm việc với định dạng dữ liệu trong một số mô hình hoặc công cụ Hugging Face.\n",
    "\n",
    "- `datasets`: Thư viện của Hugging Face để tải và xử lý tập dữ liệu huấn luyện/inference.\n",
    "\n",
    "- `huggingface_hub`: Thư viện để tương tác với Hugging Face Hub (tải mô hình, dataset, đẩy kết quả lên Hub).\n",
    "\n",
    "- `hf_transfer`: Công cụ tăng tốc tải xuống từ Hugging Face Hub, hữu ích khi tải các mô hình lớn.\n",
    "\n"
   ]
  },
  {
   "cell_type": "code",
   "execution_count": null,
   "id": "c241a3b1",
   "metadata": {},
   "outputs": [],
   "source": [
    "# # %%capture\n",
    "# import os\n",
    "# if \"COLAB_\" not in \"\".join(os.environ.keys()):\n",
    "#     !pip install unsloth\n",
    "# else:\n",
    "#     # Do this only in Colab and Kaggle notebooks! Otherwise use pip install unsloth\n",
    "#     !pip install --no-deps bitsandbytes accelerate xformers==0.0.29 peft trl triton\n",
    "#     !pip install --no-deps cut_cross_entropy unsloth_zoo\n",
    "#     !pip install sentencepiece protobuf datasets huggingface_hub hf_transfer\n",
    "#     !pip install --no-deps unsloth"
   ]
  },
  {
   "cell_type": "markdown",
   "id": "58b178e0",
   "metadata": {},
   "source": [
    "# 2. Config LLM Model"
   ]
  },
  {
   "cell_type": "code",
   "execution_count": null,
   "id": "2b0b3c7e",
   "metadata": {},
   "outputs": [
    {
     "name": "stdout",
     "output_type": "stream",
     "text": [
      "True\n",
      "NVIDIA GeForce RTX 5080\n",
      "(12, 0)\n"
     ]
    }
   ],
   "source": [
    "import torch\n",
    "print(torch.cuda.is_available())\n",
    "print(torch.cuda.get_device_name())\n",
    "print(torch.cuda.get_device_capability())\n"
   ]
  },
  {
   "cell_type": "code",
   "execution_count": null,
   "id": "d700d452",
   "metadata": {},
   "outputs": [],
   "source": [
    "# import os\n",
    "\n",
    "# os.environ[\"TORCH_CUDA_ARCH_LIST\"] = \"12.0\""
   ]
  },
  {
   "cell_type": "code",
   "execution_count": null,
   "id": "8b622c95",
   "metadata": {},
   "outputs": [
    {
     "name": "stdout",
     "output_type": "stream",
     "text": [
      "🦥 Unsloth: Will patch your computer to enable 2x faster free finetuning.\n"
     ]
    },
    {
     "name": "stderr",
     "output_type": "stream",
     "text": [
      "/home/tyan/Simple-Fine-Tune-Llama/finetune_env/lib/python3.10/site-packages/tqdm/auto.py:21: TqdmWarning: IProgress not found. Please update jupyter and ipywidgets. See https://ipywidgets.readthedocs.io/en/stable/user_install.html\n",
      "  from .autonotebook import tqdm as notebook_tqdm\n"
     ]
    },
    {
     "name": "stdout",
     "output_type": "stream",
     "text": [
      "🦥 Unsloth Zoo will now patch everything to make training faster!\n",
      "==((====))==  Unsloth 2025.7.5: Fast Llama patching. Transformers: 4.53.2.\n",
      "   \\\\   /|    NVIDIA GeForce RTX 5080. Num GPUs = 1. Max memory: 15.92 GB. Platform: Linux.\n",
      "O^O/ \\_/ \\    Torch: 2.7.1+cu128. CUDA: 12.0. CUDA Toolkit: 12.8. Triton: 3.3.1\n",
      "\\        /    Bfloat16 = TRUE. FA [Xformers = 0.0.31.post1. FA2 = False]\n",
      " \"-____-\"     Free license: http://github.com/unslothai/unsloth\n",
      "Unsloth: Fast downloading is enabled - ignore downloading bars which are red colored!\n"
     ]
    }
   ],
   "source": [
    "from unsloth import FastLanguageModel\n",
    "import torch\n",
    "\n",
    "max_seq_length = 2048\n",
    "dtype = None\n",
    "load_in_4bit = True\n",
    "\n",
    "model, tokenizer = FastLanguageModel.from_pretrained(\n",
    "    model_name = \"unsloth/Llama-3.2-1B-Instruct-bnb-4bit\",\n",
    "    max_seq_length = max_seq_length,\n",
    "    dtype = dtype,\n",
    "    load_in_4bit = load_in_4bit,\n",
    ")"
   ]
  },
  {
   "cell_type": "markdown",
   "id": "637e91a7",
   "metadata": {},
   "source": [
    "# 3. LoRA Adapters"
   ]
  },
  {
   "cell_type": "code",
   "execution_count": null,
   "id": "0e9d5c61",
   "metadata": {},
   "outputs": [
    {
     "name": "stderr",
     "output_type": "stream",
     "text": [
      "Unsloth 2025.7.5 patched 16 layers with 16 QKV layers, 16 O layers and 16 MLP layers.\n"
     ]
    }
   ],
   "source": [
    "# Parameter-Efficient Fine-Tuning (PEFT)\n",
    "# LoRA (Low-Rank Adaptation)\n",
    "model = FastLanguageModel.get_peft_model(\n",
    "    model,    # pre-trained model\n",
    "    r = 32,\n",
    "    # q_proj, k_proj, v_proj: Các lớp tạo Query, Key, Value trong cơ chế Attention.\n",
    "    # o_proj: Lớp chiếu đầu ra của Attention.\n",
    "    # gate_proj, up_proj, down_proj: Các lớp trong mạng Feed-Forward (FFN)\n",
    "    target_modules = [\"q_proj\", \"k_proj\", \"v_proj\", \"o_proj\",\n",
    "                      \"gate_proj\", \"up_proj\", \"down_proj\",],\n",
    "    # Các ma trận Low-Rank (A.B) được nhân với lora_alpha/r để điều chỉnh mức độ ảnh hưởng của chúng lên trọng số gốc.\n",
    "    lora_alpha = 32,\n",
    "\n",
    "    # Dropout là kỹ thuật regularization, ngẫu nhiên bỏ qua một tỷ lệ đơn vị để tránh overfitting.\n",
    "    lora_dropout = 0,\n",
    "\n",
    "    # Quy định cách xử lý bias (độ lệch) trong các lớp LoRA.\n",
    "    bias = \"none\",\n",
    "\n",
    "    # Kích hoạt gradient checkpointing để tiết kiệm bộ nhớ khi huấn luyện.\n",
    "    use_gradient_checkpointing = \"unsloth\",\n",
    "    random_state = 3407,\n",
    "\n",
    "    # RS-LoRA là một biến thể của LoRA, cải thiện tính ổn định khi dùng rank cao.\n",
    "    # Nếu bạn tăng r và gặp vấn đề ổn định, có thể thử bật True.\n",
    "    use_rslora = False,\n",
    "\n",
    "    # LoFTQ kết hợp quantization với LoRA để nén mô hình thêm.\n",
    "    loftq_config = None,\n",
    ")"
   ]
  },
  {
   "cell_type": "markdown",
   "id": "da9126f9",
   "metadata": {},
   "source": [
    "# 4. Format Prompting"
   ]
  },
  {
   "cell_type": "code",
   "execution_count": null,
   "id": "98f55356",
   "metadata": {},
   "outputs": [],
   "source": [
    "# alpaca_prompt = \"\"\"Below is an instruction that describes a task, paired with an input that provides further context. Write a response that appropriately completes the request.\n",
    "\n",
    "# ### Instruction:            \n",
    "# Company database: {}\n",
    "\n",
    "# ### Input:\n",
    "# SQL Prompt: {}\n",
    "\n",
    "# ### Response:\n",
    "# SQL: {}\n",
    "\n",
    "# Explanation: {}\n",
    "# \"\"\"\n",
    "\n",
    "# # End Of Sequence Token\n",
    "# EOS_TOKEN = tokenizer.eos_token\n",
    "\n",
    "# def formatting_prompts_func(examples):\n",
    "#   company_databases = examples[\"sql_context\"]\n",
    "#   prompts = examples[\"sql_prompt\"]\n",
    "#   sqls = examples[\"sql\"]\n",
    "#   explanations = examples[\"sql_explanation\"]\n",
    "#   texts = []\n",
    "\n",
    "#   for company_database, prompt, sql, explanation in zip(company_databases, prompts, sqls, explanations):\n",
    "#     # Must add EOS_TOKEN, otherwise your generation wil go on forever!\n",
    "#     # .format replace `{}`\n",
    "#     text = alpaca_prompt.format(company_database, prompt, sql, explanation) + EOS_TOKEN\n",
    "#     texts.append(text)\n",
    "\n",
    "#   return {\"text\" : texts, }\n",
    "\n",
    "# pass"
   ]
  },
  {
   "cell_type": "code",
   "execution_count": null,
   "id": "144b3aa9",
   "metadata": {},
   "outputs": [],
   "source": [
    "from huggingface_hub import login\n",
    "from transformers import AutoTokenizer\n",
    "\n",
    "login(token=\"\")\n",
    "\n",
    "tokenizer = AutoTokenizer.from_pretrained(\"meta-llama/Llama-3.2-1B-Instruct\")"
   ]
  },
  {
   "cell_type": "code",
   "execution_count": null,
   "id": "a9e846b7",
   "metadata": {},
   "outputs": [],
   "source": [
    "# End Of Sequence Token (rất quan trọng)\n",
    "EOS_TOKEN = tokenizer.eos_token\n",
    "\n",
    "def formatting_qa_func(examples):\n",
    "    all_texts = []\n",
    "    for messages in examples[\"messages\"]:\n",
    "        text = tokenizer.apply_chat_template(messages, tokenize=False, add_generation_prompt=False)\n",
    "        text += EOS_TOKEN\n",
    "        all_texts.append(text)\n",
    "        \n",
    "    return {\"text\": all_texts}\n",
    "\n",
    "        "
   ]
  },
  {
   "cell_type": "code",
   "execution_count": null,
   "id": "c717da6e",
   "metadata": {},
   "outputs": [
    {
     "data": {
      "text/plain": [
       "{'messages': [{'role': 'user', 'content': 'Tên của khách sạn là gì?'},\n",
       "  {'role': 'assistant', 'content': 'Tên khách sạn là Simon Hotel.'}],\n",
       " 'text': '<|begin_of_text|><|start_header_id|>system<|end_header_id|>\\n\\nCutting Knowledge Date: December 2023\\nToday Date: 22 Jul 2025\\n\\n<|eot_id|><|start_header_id|>user<|end_header_id|>\\n\\nTên của khách sạn là gì?<|eot_id|><|start_header_id|>assistant<|end_header_id|>\\n\\nTên khách sạn là Simon Hotel.<|eot_id|><|eot_id|>'}"
      ]
     },
     "metadata": {},
     "output_type": "display_data"
    }
   ],
   "source": [
    "from datasets import load_dataset\n",
    "\n",
    "\n",
    "dataset = load_dataset(\"json\", data_files=\"./data/data.jsonl\", split=\"train\")\n",
    "dataset = dataset.map(formatting_qa_func, batched=True)\n",
    "\n",
    "dataset[0]"
   ]
  },
  {
   "cell_type": "markdown",
   "id": "e5ea5f31",
   "metadata": {},
   "source": [
    "# 5. SFTTrainer (Supervised Fine-Tuning Trainer)"
   ]
  },
  {
   "cell_type": "code",
   "execution_count": null,
   "id": "4eeabdbe",
   "metadata": {},
   "outputs": [
    {
     "ename": "",
     "evalue": "",
     "output_type": "error",
     "traceback": [
      "\u001b[1;31mThe Kernel crashed while executing code in the current cell or a previous cell. \n",
      "\n",
      "\u001b[1;31mPlease review the code in the cell(s) to identify a possible cause of the failure. \n",
      "\n",
      "\u001b[1;31mClick <a href='https://aka.ms/vscodeJupyterKernelCrash'>here</a> for more info. \n",
      "\n",
      "\u001b[1;31mView Jupyter <a href='command:jupyter.viewOutput'>log</a> for further details."
     ]
    }
   ],
   "source": [
    "from trl import SFTTrainer\n",
    "from transformers import TrainingArguments\n",
    "from unsloth import is_bfloat16_supported\n",
    "\n",
    "trainer = SFTTrainer(\n",
    "    model = model,\n",
    "    tokenizer = tokenizer,\n",
    "    train_dataset = dataset,\n",
    "    eval_dataset=None,\n",
    "    max_seq_length = max_seq_length,\n",
    "    # Số lượng tiến trình song song để xử lý dữ liệu.\n",
    "    dataset_num_proc = 1,\n",
    "\n",
    "    # Nếu True, các mẫu ngắn sẽ được gộp lại để tận dụng tối đa max_seq_length, tăng hiệu quả huấn luyện.\n",
    "    packing = False,\n",
    "\n",
    "    args = TrainingArguments(\n",
    "        # Kích thước batch trên mỗi thiết bị (GPU/CPU).\n",
    "        per_device_train_batch_size = 4,\n",
    "\n",
    "        # Số bước tích lũy gradient trước khi cập nhật trọng số.\n",
    "        gradient_accumulation_steps = 4,\n",
    "\n",
    "        # Số bước khởi động để tăng dần learning rate.\n",
    "        warmup_steps = 5,\n",
    "        # num_train_epochs = 1,     # Set this for full training run.\n",
    "        max_steps = 60,\n",
    "        learning_rate = 2e-4,\n",
    "\n",
    "        # Nếu không hỗ trợ BF16 (16-bit floating point), FP16 được dùng để giảm bộ nhớ và tăng tốc, nhưng có thể giảm độ chính xác một chút.\n",
    "        #fp16 = is_bfloat16_supported(),\n",
    "\n",
    "        # BF16 giữ phạm vi số lớn hơn FP16, tốt hơn cho huấn luyện mô hình lớn. Nếu phần cứng hỗ trợ (như GPU NVIDIA Ampere trở lên), BF16 được ưu tiên.\n",
    "        bf16 = is_bfloat16_supported(),\n",
    "        logging_steps = 1,\n",
    "\n",
    "        # Bộ tối ưu hóa (optimizer) được sử dụng.\n",
    "        optim = \"adamw_8bit\",\n",
    "\n",
    "        # Hệ số điều chỉnh suy giảm trọng số (regularization).\n",
    "        weight_decay = 0.01,\n",
    "\n",
    "        # Learning rate giảm dần tuyến tính từ giá trị tối đa (2e-4) về 0 qua 60 bước, giúp mô hình hội tụ tốt hơn vào cuối.\n",
    "        lr_scheduler_type = \"linear\",\n",
    "\n",
    "        # random seed\n",
    "        seed = 3047,\n",
    "        output_dir = \"outputs\",\n",
    "    ),\n",
    ")"
   ]
  },
  {
   "cell_type": "code",
   "execution_count": null,
   "id": "7b414806",
   "metadata": {},
   "outputs": [
    {
     "name": "stderr",
     "output_type": "stream",
     "text": [
      "==((====))==  Unsloth - 2x faster free finetuning | Num GPUs used = 1\n",
      "   \\\\   /|    Num examples = 37 | Num Epochs = 20 | Total steps = 60\n",
      "O^O/ \\_/ \\    Batch size per device = 4 | Gradient accumulation steps = 4\n",
      "\\        /    Data Parallel GPUs = 1 | Total batch size (4 x 4 x 1) = 16\n",
      " \"-____-\"     Trainable parameters = 22,544,384 of 1,258,358,784 (1.79% trained)\n",
      "CUDA error (/__w/xformers/xformers/third_party/flash-attention/hopper/flash_bwd_launch_template.h:219): invalid argument\n"
     ]
    }
   ],
   "source": [
    "trainer_stats = trainer.train()"
   ]
  },
  {
   "cell_type": "code",
   "execution_count": null,
   "id": "1778cf76",
   "metadata": {},
   "outputs": [],
   "source": [
    "# model.save_pretrained_gguf(\"llama3-sql\", tokenizer, quantization_method=\"f16\")"
   ]
  },
  {
   "cell_type": "code",
   "execution_count": null,
   "id": "fe378282",
   "metadata": {},
   "outputs": [],
   "source": [
    "# !zip -r /content/llama3-sql.zip /content/llama3-sql"
   ]
  }
 ],
 "metadata": {
  "language_info": {
   "name": "python"
  }
 },
 "nbformat": 4,
 "nbformat_minor": 5
}
