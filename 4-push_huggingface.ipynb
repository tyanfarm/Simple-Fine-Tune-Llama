{
 "cells": [
  {
   "cell_type": "markdown",
   "id": "b39b592f",
   "metadata": {},
   "source": [
    "<div style=\"text-align: center; background-color: #b1d1ff; font-family: 'Trebuchet MS', Arial, sans-serif; color: white; padding: 20px; font-size: 40px; font-weight: bold; border-radius: 0 0 0 0; box-shadow: 0px 6px 8px rgba(0, 0, 0, 0.2);\">\n",
    "Push HuggingFace\n",
    "</div>"
   ]
  },
  {
   "cell_type": "markdown",
   "id": "e3de8eeb",
   "metadata": {},
   "source": [
    "## Push to Hugging Face"
   ]
  },
  {
   "cell_type": "code",
   "execution_count": 26,
   "id": "cea721b9",
   "metadata": {},
   "outputs": [],
   "source": [
    "import os\n",
    "from dotenv import load_dotenv\n",
    "\n",
    "# Load .env file\n",
    "load_dotenv()\n",
    "\n",
    "HF_TOKEN = os.getenv(\"HF_TOKEN\")"
   ]
  },
  {
   "cell_type": "code",
   "execution_count": 27,
   "id": "60375140",
   "metadata": {},
   "outputs": [
    {
     "name": "stderr",
     "output_type": "stream",
     "text": [
      "Note: Environment variable`HF_TOKEN` is set and is the current active token independently from the token you've just configured.\n"
     ]
    }
   ],
   "source": [
    "from huggingface_hub import login\n",
    "\n",
    "login(token=HF_TOKEN)"
   ]
  },
  {
   "cell_type": "code",
   "execution_count": 28,
   "id": "41a24504",
   "metadata": {},
   "outputs": [
    {
     "name": "stdout",
     "output_type": "stream",
     "text": [
      "Loaded 0-preprocessing.json with 294 conversations.\n",
      "Loaded 1-prompt_variation.json with 1493 conversations.\n",
      "Loaded 2-multi_turn_conversations.json with 578 conversations.\n",
      "Loaded 3-cross_faq_conversations.json with 720 conversations.\n",
      "Total conversations loaded: 3085\n"
     ]
    }
   ],
   "source": [
    "import json\n",
    "import os\n",
    "\n",
    "folder_path = \"./datasets\"\n",
    "\n",
    "list_conversations = []\n",
    "\n",
    "for filename in os.listdir(folder_path):\n",
    "    if filename.endswith(\".json\"):\n",
    "        file_path = os.path.join(folder_path, filename)\n",
    "        with open(file_path, 'r', encoding='utf-8') as file:\n",
    "            data = json.load(file)\n",
    "            print(f\"Loaded {filename} with {len(data)} conversations.\")\n",
    "            if isinstance(data, list):\n",
    "                list_conversations.extend(data)\n",
    "\n",
    "print(f\"Total conversations loaded: {len(list_conversations)}\")"
   ]
  },
  {
   "cell_type": "code",
   "execution_count": 29,
   "id": "524e5f8e",
   "metadata": {},
   "outputs": [
    {
     "data": {
      "text/plain": [
       "[{'hotel_name': 'Renaissance Riverside Saigon Hotel',\n",
       "  'conversations': [{'from': 'human',\n",
       "    'value': 'Bạn có thể cung cấp thông tin tổng quan về Renaissance Riverside Saigon Hotel được không?'},\n",
       "   {'from': 'gpt',\n",
       "    'value': 'Renaissance Riverside Saigon Hotel là khách sạn 5 sao tọa lạc ngay trung tâm Thành phố Hồ Chí Minh. Khách sạn có 336 phòng với cửa sổ nhìn ra thành phố, nhiều tiện nghi hiện đại cùng 2 nhà hàng và bar sang trọng. Vị trí thuận tiện cách sân bay Tân Sơn Nhất khoảng 30 phút lái xe và gần các điểm tham quan nổi tiếng như Nhà hát Lớn, Chợ Bến Thành.'}]},\n",
       " {'hotel_name': 'Renaissance Riverside Saigon Hotel',\n",
       "  'conversations': [{'from': 'human',\n",
       "    'value': 'Khách sạn Renaissance Riverside Saigon nằm ở địa chỉ nào vậy?'},\n",
       "   {'from': 'gpt',\n",
       "    'value': 'Renaissance Riverside Saigon Hotel tọa lạc tại địa chỉ 8 - 15, Ton Duc Thang, Quận 1, Thành phố Hồ Chí Minh, Việt Nam.'}]},\n",
       " {'hotel_name': 'Renaissance Riverside Saigon Hotel',\n",
       "  'conversations': [{'from': 'human',\n",
       "    'value': 'Bạn có thể cho tôi biết các hạng phòng hiện có tại Renaissance Riverside Saigon Hotel không?'},\n",
       "   {'from': 'gpt',\n",
       "    'value': 'Khách sạn Renaissance Riverside Saigon có nhiều hạng phòng đa dạng như: Standard Room, Suite, Guest Room, Club Guest Room, Executive Studio, Executive Suite, R Club Room, Deluxe Room, Deluxe Suite, Superior Room, Executive Room, và Presidential Suite.'}]}]"
      ]
     },
     "execution_count": 29,
     "metadata": {},
     "output_type": "execute_result"
    }
   ],
   "source": [
    "list_conversations[:3]"
   ]
  },
  {
   "cell_type": "code",
   "execution_count": 30,
   "id": "c8661d65",
   "metadata": {},
   "outputs": [],
   "source": [
    "from datasets import Dataset\n",
    "\n",
    "cleaned_data = []\n",
    "for item in list_conversations:\n",
    "    cleaned_conversations = []\n",
    "    for conv in item['conversations']:\n",
    "        cleaned_conversations.append({\n",
    "            'from': conv.get('from'),\n",
    "            'value': conv.get('value')\n",
    "        })\n",
    "    cleaned_data.append({\n",
    "        'hotel_name': item.get('hotel_name'),\n",
    "        'conversations': cleaned_conversations\n",
    "    })\n",
    "\n",
    "dataset = Dataset.from_list(cleaned_data)"
   ]
  },
  {
   "cell_type": "code",
   "execution_count": 31,
   "id": "911d2451",
   "metadata": {},
   "outputs": [
    {
     "data": {
      "text/plain": [
       "{'hotel_name': ['Renaissance Riverside Saigon Hotel',\n",
       "  'Renaissance Riverside Saigon Hotel',\n",
       "  'Renaissance Riverside Saigon Hotel'],\n",
       " 'conversations': [[{'from': 'human',\n",
       "    'value': 'Bạn có thể cung cấp thông tin tổng quan về Renaissance Riverside Saigon Hotel được không?'},\n",
       "   {'from': 'gpt',\n",
       "    'value': 'Renaissance Riverside Saigon Hotel là khách sạn 5 sao tọa lạc ngay trung tâm Thành phố Hồ Chí Minh. Khách sạn có 336 phòng với cửa sổ nhìn ra thành phố, nhiều tiện nghi hiện đại cùng 2 nhà hàng và bar sang trọng. Vị trí thuận tiện cách sân bay Tân Sơn Nhất khoảng 30 phút lái xe và gần các điểm tham quan nổi tiếng như Nhà hát Lớn, Chợ Bến Thành.'}],\n",
       "  [{'from': 'human',\n",
       "    'value': 'Khách sạn Renaissance Riverside Saigon nằm ở địa chỉ nào vậy?'},\n",
       "   {'from': 'gpt',\n",
       "    'value': 'Renaissance Riverside Saigon Hotel tọa lạc tại địa chỉ 8 - 15, Ton Duc Thang, Quận 1, Thành phố Hồ Chí Minh, Việt Nam.'}],\n",
       "  [{'from': 'human',\n",
       "    'value': 'Bạn có thể cho tôi biết các hạng phòng hiện có tại Renaissance Riverside Saigon Hotel không?'},\n",
       "   {'from': 'gpt',\n",
       "    'value': 'Khách sạn Renaissance Riverside Saigon có nhiều hạng phòng đa dạng như: Standard Room, Suite, Guest Room, Club Guest Room, Executive Studio, Executive Suite, R Club Room, Deluxe Room, Deluxe Suite, Superior Room, Executive Room, và Presidential Suite.'}]]}"
      ]
     },
     "execution_count": 31,
     "metadata": {},
     "output_type": "execute_result"
    }
   ],
   "source": [
    "dataset[:3]"
   ]
  },
  {
   "cell_type": "code",
   "execution_count": 32,
   "id": "637fb5c1",
   "metadata": {},
   "outputs": [
    {
     "data": {
      "text/plain": [
       "RepoUrl('https://huggingface.co/datasets/tyanfarm/hotel-faq-conversations', endpoint='https://huggingface.co', repo_type='dataset', repo_id='tyanfarm/hotel-faq-conversations')"
      ]
     },
     "execution_count": 32,
     "metadata": {},
     "output_type": "execute_result"
    }
   ],
   "source": [
    "from huggingface_hub import HfApi\n",
    "\n",
    "dataset_name = \"tyanfarm/hotel-faq-conversations\"\n",
    "api = HfApi()\n",
    "api.create_repo(repo_id=dataset_name, repo_type=\"dataset\", exist_ok=True)"
   ]
  },
  {
   "cell_type": "code",
   "execution_count": 33,
   "id": "2ffbeb3d",
   "metadata": {},
   "outputs": [
    {
     "name": "stderr",
     "output_type": "stream",
     "text": [
      "Creating parquet from Arrow format: 100%|██████████| 4/4 [00:00<00:00, 456.82ba/s]\n",
      "Uploading the dataset shards: 100%|██████████| 1/1 [00:03<00:00,  3.17s/ shards]\n",
      "d:\\Tyan\\Quickom\\Simple-Fine-Tune-Llama\\finetune_env\\Lib\\site-packages\\huggingface_hub\\file_download.py:143: UserWarning: `huggingface_hub` cache-system uses symlinks by default to efficiently store duplicated files but your machine does not support them in C:\\Users\\Tyan\\.cache\\huggingface\\hub\\datasets--tyanfarm--hotel-faq-conversations. Caching files will still work but in a degraded version that might require more space on your disk. This warning can be disabled by setting the `HF_HUB_DISABLE_SYMLINKS_WARNING` environment variable. For more details, see https://huggingface.co/docs/huggingface_hub/how-to-cache#limitations.\n",
      "To support symlinks on Windows, you either need to activate Developer Mode or to run Python as an administrator. In order to activate developer mode, see this article: https://docs.microsoft.com/en-us/windows/apps/get-started/enable-your-device-for-development\n",
      "  warnings.warn(message)\n"
     ]
    },
    {
     "data": {
      "text/plain": [
       "CommitInfo(commit_url='https://huggingface.co/datasets/tyanfarm/hotel-faq-conversations/commit/2c160027452260ed9c44eff3f3f446f081d7936e', commit_message='Upload dataset', commit_description='', oid='2c160027452260ed9c44eff3f3f446f081d7936e', pr_url=None, repo_url=RepoUrl('https://huggingface.co/datasets/tyanfarm/hotel-faq-conversations', endpoint='https://huggingface.co', repo_type='dataset', repo_id='tyanfarm/hotel-faq-conversations'), pr_revision=None, pr_num=None)"
      ]
     },
     "execution_count": 33,
     "metadata": {},
     "output_type": "execute_result"
    }
   ],
   "source": [
    "dataset.push_to_hub(dataset_name)"
   ]
  }
 ],
 "metadata": {
  "kernelspec": {
   "display_name": "finetune_env",
   "language": "python",
   "name": "python3"
  },
  "language_info": {
   "codemirror_mode": {
    "name": "ipython",
    "version": 3
   },
   "file_extension": ".py",
   "mimetype": "text/x-python",
   "name": "python",
   "nbconvert_exporter": "python",
   "pygments_lexer": "ipython3",
   "version": "3.12.8"
  }
 },
 "nbformat": 4,
 "nbformat_minor": 5
}
