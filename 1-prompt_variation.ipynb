{
 "cells": [
  {
   "cell_type": "markdown",
   "id": "6bab1046",
   "metadata": {},
   "source": [
    "## Initial"
   ]
  },
  {
   "cell_type": "code",
   "execution_count": null,
   "id": "03175dd0",
   "metadata": {},
   "outputs": [],
   "source": [
    "import os\n",
    "from dotenv import load_dotenv\n",
    "\n",
    "# Load .env file\n",
    "load_dotenv()\n",
    "\n",
    "HF_TOKEN = os.getenv(\"HF_TOKEN\")\n",
    "OPENROUTER_API_KEY = os.getenv(\"SHISHA_API_KEY\")\n",
    "GROQCLOUD_API_KEY = os.getenv(\"GROQCLOUD_API_KEY\")\n",
    "OPENAI_API_KEY = os.getenv(\"OPENAI_API_KEY\")"
   ]
  },
  {
   "cell_type": "code",
   "execution_count": null,
   "id": "3e91ec92",
   "metadata": {},
   "outputs": [],
   "source": [
    "import requests\n",
    "from openai import OpenAI \n",
    "\n",
    "OPENROUTER_CLIENT = OpenAI(\n",
    "    base_url=\"https://openrouter.ai/api/v1\",\n",
    "    api_key=OPENROUTER_API_KEY\n",
    ")\n",
    "\n",
    "OPENAI_CLIENT = OpenAI(api_key=OPENAI_API_KEY)\n",
    "\n",
    "def call_openai_api(prompt: str) -> str:\n",
    "    try:\n",
    "        response = OPENAI_CLIENT.chat.completions.create(\n",
    "            model=\"gpt-4.1-nano\",\n",
    "            messages=[\n",
    "                {\n",
    "                    \"role\": \"user\", \n",
    "                    \"content\": prompt\n",
    "                }\n",
    "            ],\n",
    "        )\n",
    "\n",
    "        reply = response.choices[0].message.content\n",
    "\n",
    "        return reply \n",
    "    \n",
    "    except Exception as e:\n",
    "        print(f\"API called failed: {e}\")\n",
    "        return None\n",
    "\n",
    "def call_openrouter_api(prompt: str) -> str:\n",
    "    try:\n",
    "        completion = OPENROUTER_CLIENT.chat.completions.create(\n",
    "            model=\"moonshotai/kimi-dev-72b:free\",\n",
    "            messages=[\n",
    "                {\n",
    "                    \"role\": \"user\",\n",
    "                    \"content\": prompt\n",
    "                }\n",
    "            ]\n",
    "        )\n",
    "\n",
    "        return completion.choices[0].message.content\n",
    "    \n",
    "    except Exception as e:\n",
    "        print(f\"API called failed: {e}\")\n",
    "        return None\n",
    "    \n",
    "def call_groq_api(prompt: str) -> str:\n",
    "    url = \"https://api.groq.com/openai/v1/chat/completions\"\n",
    "    headers = {\n",
    "        \"Content-Type\": \"application/json\",\n",
    "        \"Authorization\": f\"Bearer {GROQCLOUD_API_KEY}\"\n",
    "    }\n",
    "    payload = {\n",
    "        \"model\": \"meta-llama/llama-4-maverick-17b-128e-instruct\",\n",
    "        \"messages\": [\n",
    "            {\n",
    "                \"role\": \"user\",\n",
    "                \"content\": prompt\n",
    "            }\n",
    "        ]\n",
    "    }\n",
    "\n",
    "    try:\n",
    "        response = requests.post(url, headers=headers, json=payload)\n",
    "        response.raise_for_status()\n",
    "        result = response.json()\n",
    "        \n",
    "        return result[\"choices\"][0][\"message\"][\"content\"]\n",
    "    except Exception as e:\n",
    "        print(f\"GROQ API call failed: {e}\")\n",
    "        return None"
   ]
  },
  {
   "cell_type": "code",
   "execution_count": null,
   "id": "d4d21f43",
   "metadata": {},
   "outputs": [],
   "source": [
    "AUGMENTATION_PROMPT = \"\"\"Paraphase with the same meaning & language as this question:\n",
    "- 3 command-style questions with an incomplete sentence structure (no need for full subject-verb), but the hotel name must be included.\n",
    "- 2 short, concise questions.\n",
    "Output: a list of 5 string (no explanation, no extra text, remove ordinal number).\n",
    "The question: {question}\n",
    "\"\"\""
   ]
  },
  {
   "cell_type": "markdown",
   "id": "151090fb",
   "metadata": {},
   "source": [
    "## Top-3 questions"
   ]
  },
  {
   "cell_type": "code",
   "execution_count": null,
   "id": "2a8df4ac",
   "metadata": {},
   "outputs": [],
   "source": [
    "import json\n",
    "\n",
    "file_path = \"./test.json\"\n",
    "list_questions = []\n",
    "\n",
    "with open(file_path, 'r', encoding='utf-8') as file:\n",
    "    raw_data = json.load(file)\n",
    "\n",
    "for data in raw_data:\n",
    "    list_questions.append(data['conversations'][0]['human'])\n",
    "\n",
    "for question in list_questions[:3]:\n",
    "    print(question)"
   ]
  },
  {
   "cell_type": "markdown",
   "id": "e3405829",
   "metadata": {},
   "source": [
    "## Send each question to LLM for variation"
   ]
  },
  {
   "cell_type": "code",
   "execution_count": null,
   "id": "d7b6a6f0",
   "metadata": {},
   "outputs": [],
   "source": [
    "list_conversations = []\n",
    "\n",
    "for index, question in enumerate(list_questions[:4]):\n",
    "    prompt = AUGMENTATION_PROMPT.format(question=question)\n",
    "    response = call_openai_api(prompt)\n",
    "\n",
    "    print(response)\n",
    "    print(\"\\n===\\n\")\n"
   ]
  },
  {
   "cell_type": "code",
   "execution_count": null,
   "id": "582bc67f",
   "metadata": {},
   "outputs": [],
   "source": [
    "print(raw_data[0])\n",
    "print(raw_data[1])\n",
    "print(raw_data[2])"
   ]
  },
  {
   "cell_type": "code",
   "execution_count": null,
   "id": "d68090ac",
   "metadata": {},
   "outputs": [],
   "source": [
    "questions = [\"1\", \"2\", \"3\"]\n",
    "gpt_answers = raw_data[0]['conversations'][0]['gpt']\n",
    "new_conversations = []\n",
    "\n",
    "for question in questions:\n",
    "    temp_conversation = {\n",
    "        'conversations': [\n",
    "            {'human': question, 'gpt': gpt_answers}\n",
    "        ]\n",
    "    }\n",
    "\n",
    "    new_conversations.append(temp_conversation)\n",
    "\n",
    "new_conversations"
   ]
  }
 ],
 "metadata": {
  "kernelspec": {
   "display_name": "finetune_env",
   "language": "python",
   "name": "python3"
  },
  "language_info": {
   "codemirror_mode": {
    "name": "ipython",
    "version": 3
   },
   "file_extension": ".py",
   "mimetype": "text/x-python",
   "name": "python",
   "nbconvert_exporter": "python",
   "pygments_lexer": "ipython3",
   "version": "3.12.8"
  }
 },
 "nbformat": 4,
 "nbformat_minor": 5
}
